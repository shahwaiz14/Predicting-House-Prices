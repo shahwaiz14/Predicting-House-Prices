{
 "cells": [
  {
   "cell_type": "markdown",
   "metadata": {},
   "source": [
    "Importing libraries and loading the train and test file"
   ]
  },
  {
   "cell_type": "code",
   "execution_count": 377,
   "metadata": {},
   "outputs": [
    {
     "data": {
      "text/plain": [
       "(1460, 80)"
      ]
     },
     "execution_count": 377,
     "metadata": {},
     "output_type": "execute_result"
    }
   ],
   "source": [
    "import pandas as pd\n",
    "import numpy as np\n",
    "import seaborn as sns\n",
    "import matplotlib.pyplot as plt\n",
    "%matplotlib inline\n",
    "\n",
    "tr = pd.read_csv(\"Desktop/housePricesData/train.csv\",index_col = 0)\n",
    "test_housePrices = pd.read_csv(\"Desktop/housePricesData/test.csv\",index_col = 0)\n",
    "\n",
    "tr.shape"
   ]
  },
  {
   "cell_type": "markdown",
   "metadata": {},
   "source": [
    "So there are 80 features and 1460 instances.\n",
    "\n",
    "Lets see how many features are categorical and numerical."
   ]
  },
  {
   "cell_type": "code",
   "execution_count": 378,
   "metadata": {},
   "outputs": [
    {
     "name": "stdout",
     "output_type": "stream",
     "text": [
      "no. of numerical columns = 37\n",
      "no. of categorical columns = 43\n"
     ]
    }
   ],
   "source": [
    "print (\"no. of numerical columns = \", end=\"\")\n",
    "print (tr.select_dtypes(include = 'number').shape[1])\n",
    "print (\"no. of categorical columns = \", end=\"\")\n",
    "print (tr.select_dtypes(include = 'object').shape[1])"
   ]
  },
  {
   "cell_type": "markdown",
   "metadata": {},
   "source": [
    "**Digging deep into the numerical columns**"
   ]
  },
  {
   "cell_type": "markdown",
   "metadata": {},
   "source": [
    "Lets see if the numerical columns have any missing values"
   ]
  },
  {
   "cell_type": "code",
   "execution_count": 379,
   "metadata": {},
   "outputs": [
    {
     "data": {
      "text/plain": [
       "MSSubClass       False\n",
       "LotFrontage       True\n",
       "LotArea          False\n",
       "OverallQual      False\n",
       "OverallCond      False\n",
       "YearBuilt        False\n",
       "YearRemodAdd     False\n",
       "MasVnrArea        True\n",
       "BsmtFinSF1       False\n",
       "BsmtFinSF2       False\n",
       "BsmtUnfSF        False\n",
       "TotalBsmtSF      False\n",
       "1stFlrSF         False\n",
       "2ndFlrSF         False\n",
       "LowQualFinSF     False\n",
       "GrLivArea        False\n",
       "BsmtFullBath     False\n",
       "BsmtHalfBath     False\n",
       "FullBath         False\n",
       "HalfBath         False\n",
       "BedroomAbvGr     False\n",
       "KitchenAbvGr     False\n",
       "TotRmsAbvGrd     False\n",
       "Fireplaces       False\n",
       "GarageYrBlt       True\n",
       "GarageCars       False\n",
       "GarageArea       False\n",
       "WoodDeckSF       False\n",
       "OpenPorchSF      False\n",
       "EnclosedPorch    False\n",
       "3SsnPorch        False\n",
       "ScreenPorch      False\n",
       "PoolArea         False\n",
       "MiscVal          False\n",
       "MoSold           False\n",
       "YrSold           False\n",
       "SalePrice        False\n",
       "dtype: bool"
      ]
     },
     "execution_count": 379,
     "metadata": {},
     "output_type": "execute_result"
    }
   ],
   "source": [
    "tr.select_dtypes(include = 'number').isna().any()"
   ]
  },
  {
   "cell_type": "markdown",
   "metadata": {},
   "source": [
    "These are the 3 (out of 37) numerical columns with missing data: LotFrontage, MasVnrArea, GarageYrBlt"
   ]
  },
  {
   "cell_type": "markdown",
   "metadata": {},
   "source": [
    "We are going to see the correlation of each feature to each other"
   ]
  },
  {
   "cell_type": "code",
   "execution_count": 380,
   "metadata": {},
   "outputs": [],
   "source": [
    "#plt.subplots(figsize=(12, 9))\n",
    "#sns.heatmap(tr.corr())"
   ]
  },
  {
   "cell_type": "markdown",
   "metadata": {},
   "source": [
    "**Observations from the heatmap: **  We can see that OverallQual, GrLivArea have a correlation of 0.79 and 0.70, respectively, with the SalePrice. \n",
    "\n",
    "Furthermore, GarageCars & GarageArea are correlated with eachother so we'll take only one of these features (that is correlated highly with SalePrice) and omit the other to negate collinearity. Therefore, we will include GarageCars that has a correlation of 0.64 with SalePrice. \n",
    "\n",
    "We also see that TotalBsmtSF and 1stFirSF is correlated to each other and has the same correlation coefficient to the SalePrice."
   ]
  },
  {
   "cell_type": "markdown",
   "metadata": {},
   "source": [
    "To make our job easy, we'll only include numerical features whose correlation coefficient is greater than the threshold we set."
   ]
  },
  {
   "cell_type": "code",
   "execution_count": 381,
   "metadata": {},
   "outputs": [
    {
     "data": {
      "text/plain": [
       "Index(['OverallQual', 'YearBuilt', 'YearRemodAdd', 'MasVnrArea', 'TotalBsmtSF',\n",
       "       '1stFlrSF', 'GrLivArea', 'FullBath', 'TotRmsAbvGrd', 'Fireplaces',\n",
       "       'GarageYrBlt', 'GarageCars', 'GarageArea', 'SalePrice'],\n",
       "      dtype='object')"
      ]
     },
     "execution_count": 381,
     "metadata": {},
     "output_type": "execute_result"
    }
   ],
   "source": [
    "threshold = 0.45\n",
    "corr_number = pd.DataFrame([tr[i].corr(tr.SalePrice) for i in tr.select_dtypes(include = 'number')],\n",
    "             index = tr.select_dtypes(include = 'number').columns, columns = ['SalePrice'])\n",
    "corr_number.loc[corr_number.SalePrice > threshold,:].index"
   ]
  },
  {
   "cell_type": "markdown",
   "metadata": {},
   "source": [
    "Lets plot graphs to see the relationship between these features and SalePrice clearly."
   ]
  },
  {
   "cell_type": "code",
   "execution_count": 382,
   "metadata": {
    "scrolled": false
   },
   "outputs": [
    {
     "data": {
      "text/html": [
       "<div>\n",
       "<style scoped>\n",
       "    .dataframe tbody tr th:only-of-type {\n",
       "        vertical-align: middle;\n",
       "    }\n",
       "\n",
       "    .dataframe tbody tr th {\n",
       "        vertical-align: top;\n",
       "    }\n",
       "\n",
       "    .dataframe thead th {\n",
       "        text-align: right;\n",
       "    }\n",
       "</style>\n",
       "<table border=\"1\" class=\"dataframe\">\n",
       "  <thead>\n",
       "    <tr style=\"text-align: right;\">\n",
       "      <th></th>\n",
       "      <th>SalePrice</th>\n",
       "      <th>GrLivArea</th>\n",
       "    </tr>\n",
       "    <tr>\n",
       "      <th>Id</th>\n",
       "      <th></th>\n",
       "      <th></th>\n",
       "    </tr>\n",
       "  </thead>\n",
       "  <tbody>\n",
       "    <tr>\n",
       "      <th>524</th>\n",
       "      <td>184750</td>\n",
       "      <td>4676</td>\n",
       "    </tr>\n",
       "    <tr>\n",
       "      <th>692</th>\n",
       "      <td>755000</td>\n",
       "      <td>4316</td>\n",
       "    </tr>\n",
       "    <tr>\n",
       "      <th>1183</th>\n",
       "      <td>745000</td>\n",
       "      <td>4476</td>\n",
       "    </tr>\n",
       "    <tr>\n",
       "      <th>1299</th>\n",
       "      <td>160000</td>\n",
       "      <td>5642</td>\n",
       "    </tr>\n",
       "  </tbody>\n",
       "</table>\n",
       "</div>"
      ],
      "text/plain": [
       "      SalePrice  GrLivArea\n",
       "Id                        \n",
       "524      184750       4676\n",
       "692      755000       4316\n",
       "1183     745000       4476\n",
       "1299     160000       5642"
      ]
     },
     "execution_count": 382,
     "metadata": {},
     "output_type": "execute_result"
    },
    {
     "data": {
      "image/png": "[encoded data removed]",
      "text/plain": [
       "<matplotlib.figure.Figure at 0xedba9ba128>"
      ]
     },
     "metadata": {},
     "output_type": "display_data"
    }
   ],
   "source": [
    "#sns.boxplot(x=tr.GrLivArea)\n",
    "tr.plot(x=\"GrLivArea\",y =\"SalePrice\", kind=\"scatter\")\n",
    "#immediately we see that the 2 points on the lower right are outliers so we should delete them.\n",
    "tr.loc[tr.GrLivArea > 4000,[\"SalePrice\",\"GrLivArea\"]]"
   ]
  },
  {
   "cell_type": "code",
   "execution_count": 383,
   "metadata": {},
   "outputs": [
    {
     "data": {
      "text/html": [
       "<div>\n",
       "<style scoped>\n",
       "    .dataframe tbody tr th:only-of-type {\n",
       "        vertical-align: middle;\n",
       "    }\n",
       "\n",
       "    .dataframe tbody tr th {\n",
       "        vertical-align: top;\n",
       "    }\n",
       "\n",
       "    .dataframe thead th {\n",
       "        text-align: right;\n",
       "    }\n",
       "</style>\n",
       "<table border=\"1\" class=\"dataframe\">\n",
       "  <thead>\n",
       "    <tr style=\"text-align: right;\">\n",
       "      <th></th>\n",
       "      <th>SalePrice</th>\n",
       "      <th>GarageArea</th>\n",
       "    </tr>\n",
       "    <tr>\n",
       "      <th>Id</th>\n",
       "      <th></th>\n",
       "      <th></th>\n",
       "    </tr>\n",
       "  </thead>\n",
       "  <tbody>\n",
       "    <tr>\n",
       "      <th>582</th>\n",
       "      <td>253293</td>\n",
       "      <td>1390</td>\n",
       "    </tr>\n",
       "    <tr>\n",
       "      <th>826</th>\n",
       "      <td>385000</td>\n",
       "      <td>1220</td>\n",
       "    </tr>\n",
       "    <tr>\n",
       "      <th>1062</th>\n",
       "      <td>81000</td>\n",
       "      <td>1248</td>\n",
       "    </tr>\n",
       "    <tr>\n",
       "      <th>1191</th>\n",
       "      <td>168000</td>\n",
       "      <td>1356</td>\n",
       "    </tr>\n",
       "    <tr>\n",
       "      <th>1299</th>\n",
       "      <td>160000</td>\n",
       "      <td>1418</td>\n",
       "    </tr>\n",
       "  </tbody>\n",
       "</table>\n",
       "</div>"
      ],
      "text/plain": [
       "      SalePrice  GarageArea\n",
       "Id                         \n",
       "582      253293        1390\n",
       "826      385000        1220\n",
       "1062      81000        1248\n",
       "1191     168000        1356\n",
       "1299     160000        1418"
      ]
     },
     "execution_count": 383,
     "metadata": {},
     "output_type": "execute_result"
    },
    {
     "data": {
      "image/png": "[encoded data removed]",
      "text/plain": [
       "<matplotlib.figure.Figure at 0xedbc3e3ac8>"
      ]
     },
     "metadata": {},
     "output_type": "display_data"
    }
   ],
   "source": [
    "tr.plot(x=\"GarageArea\",y =\"SalePrice\", kind=\"scatter\")\n",
    "tr.loc[tr.GarageArea > 1200,[\"SalePrice\",\"GarageArea\"]]"
   ]
  },
  {
   "cell_type": "code",
   "execution_count": 384,
   "metadata": {},
   "outputs": [
    {
     "data": {
      "text/plain": [
       "<matplotlib.axes._subplots.AxesSubplot at 0xedbaffca20>"
      ]
     },
     "execution_count": 384,
     "metadata": {},
     "output_type": "execute_result"
    },
    {
     "data": {
      "image/png": "[encoded data removed]",
      "text/plain": [
       "<matplotlib.figure.Figure at 0xedbae91908>"
      ]
     },
     "metadata": {},
     "output_type": "display_data"
    }
   ],
   "source": [
    "tr.plot(x=\"YearBuilt\",y =\"SalePrice\", kind=\"scatter\")"
   ]
  },
  {
   "cell_type": "markdown",
   "metadata": {},
   "source": [
    "Note: index 1299 seems like an outlier in both plots"
   ]
  },
  {
   "cell_type": "code",
   "execution_count": 385,
   "metadata": {},
   "outputs": [],
   "source": [
    "tr.drop(axis=0, index=1298, inplace=True)"
   ]
  },
  {
   "cell_type": "markdown",
   "metadata": {},
   "source": [
    "# Lets tackle Categorical features"
   ]
  },
  {
   "cell_type": "code",
   "execution_count": 386,
   "metadata": {
    "scrolled": true
   },
   "outputs": [
    {
     "data": {
      "text/plain": [
       "Index(['MSZoning', 'Street', 'Alley', 'LotShape', 'LandContour', 'Utilities',\n",
       "       'LotConfig', 'LandSlope', 'Neighborhood', 'Condition1', 'Condition2',\n",
       "       'BldgType', 'HouseStyle', 'RoofStyle', 'RoofMatl', 'Exterior1st',\n",
       "       'Exterior2nd', 'MasVnrType', 'ExterQual', 'ExterCond', 'Foundation',\n",
       "       'BsmtQual', 'BsmtCond', 'BsmtExposure', 'BsmtFinType1', 'BsmtFinType2',\n",
       "       'Heating', 'HeatingQC', 'CentralAir', 'Electrical', 'KitchenQual',\n",
       "       'Functional', 'FireplaceQu', 'GarageType', 'GarageFinish', 'GarageQual',\n",
       "       'GarageCond', 'PavedDrive', 'PoolQC', 'Fence', 'MiscFeature',\n",
       "       'SaleType', 'SaleCondition'],\n",
       "      dtype='object')"
      ]
     },
     "execution_count": 386,
     "metadata": {},
     "output_type": "execute_result"
    }
   ],
   "source": [
    "cat_f = tr.select_dtypes(include=\"object\")\n",
    "cat_f.head()\n",
    "cat_f.columns"
   ]
  },
  {
   "cell_type": "markdown",
   "metadata": {},
   "source": [
    "We are going to see if any of the categorical features have any missing values."
   ]
  },
  {
   "cell_type": "code",
   "execution_count": 387,
   "metadata": {},
   "outputs": [
    {
     "data": {
      "text/html": [
       "<div>\n",
       "<style scoped>\n",
       "    .dataframe tbody tr th:only-of-type {\n",
       "        vertical-align: middle;\n",
       "    }\n",
       "\n",
       "    .dataframe tbody tr th {\n",
       "        vertical-align: top;\n",
       "    }\n",
       "\n",
       "    .dataframe thead th {\n",
       "        text-align: right;\n",
       "    }\n",
       "</style>\n",
       "<table border=\"1\" class=\"dataframe\">\n",
       "  <thead>\n",
       "    <tr style=\"text-align: right;\">\n",
       "      <th></th>\n",
       "      <th>Missing %</th>\n",
       "      <th>Total Missing</th>\n",
       "    </tr>\n",
       "  </thead>\n",
       "  <tbody>\n",
       "    <tr>\n",
       "      <th>PoolQC</th>\n",
       "      <td>99.520219</td>\n",
       "      <td>1452</td>\n",
       "    </tr>\n",
       "    <tr>\n",
       "      <th>MiscFeature</th>\n",
       "      <td>96.298835</td>\n",
       "      <td>1405</td>\n",
       "    </tr>\n",
       "    <tr>\n",
       "      <th>Alley</th>\n",
       "      <td>93.762851</td>\n",
       "      <td>1368</td>\n",
       "    </tr>\n",
       "    <tr>\n",
       "      <th>Fence</th>\n",
       "      <td>80.740233</td>\n",
       "      <td>1178</td>\n",
       "    </tr>\n",
       "    <tr>\n",
       "      <th>FireplaceQu</th>\n",
       "      <td>47.224126</td>\n",
       "      <td>689</td>\n",
       "    </tr>\n",
       "    <tr>\n",
       "      <th>GarageType</th>\n",
       "      <td>5.551748</td>\n",
       "      <td>81</td>\n",
       "    </tr>\n",
       "    <tr>\n",
       "      <th>GarageFinish</th>\n",
       "      <td>5.551748</td>\n",
       "      <td>81</td>\n",
       "    </tr>\n",
       "    <tr>\n",
       "      <th>GarageQual</th>\n",
       "      <td>5.551748</td>\n",
       "      <td>81</td>\n",
       "    </tr>\n",
       "    <tr>\n",
       "      <th>GarageCond</th>\n",
       "      <td>5.551748</td>\n",
       "      <td>81</td>\n",
       "    </tr>\n",
       "    <tr>\n",
       "      <th>BsmtExposure</th>\n",
       "      <td>2.604524</td>\n",
       "      <td>38</td>\n",
       "    </tr>\n",
       "    <tr>\n",
       "      <th>BsmtFinType2</th>\n",
       "      <td>2.604524</td>\n",
       "      <td>38</td>\n",
       "    </tr>\n",
       "    <tr>\n",
       "      <th>BsmtQual</th>\n",
       "      <td>2.535984</td>\n",
       "      <td>37</td>\n",
       "    </tr>\n",
       "    <tr>\n",
       "      <th>BsmtCond</th>\n",
       "      <td>2.535984</td>\n",
       "      <td>37</td>\n",
       "    </tr>\n",
       "    <tr>\n",
       "      <th>BsmtFinType1</th>\n",
       "      <td>2.535984</td>\n",
       "      <td>37</td>\n",
       "    </tr>\n",
       "    <tr>\n",
       "      <th>MasVnrType</th>\n",
       "      <td>0.548321</td>\n",
       "      <td>8</td>\n",
       "    </tr>\n",
       "    <tr>\n",
       "      <th>Electrical</th>\n",
       "      <td>0.068540</td>\n",
       "      <td>1</td>\n",
       "    </tr>\n",
       "  </tbody>\n",
       "</table>\n",
       "</div>"
      ],
      "text/plain": [
       "              Missing %  Total Missing\n",
       "PoolQC        99.520219           1452\n",
       "MiscFeature   96.298835           1405\n",
       "Alley         93.762851           1368\n",
       "Fence         80.740233           1178\n",
       "FireplaceQu   47.224126            689\n",
       "GarageType     5.551748             81\n",
       "GarageFinish   5.551748             81\n",
       "GarageQual     5.551748             81\n",
       "GarageCond     5.551748             81\n",
       "BsmtExposure   2.604524             38\n",
       "BsmtFinType2   2.604524             38\n",
       "BsmtQual       2.535984             37\n",
       "BsmtCond       2.535984             37\n",
       "BsmtFinType1   2.535984             37\n",
       "MasVnrType     0.548321              8\n",
       "Electrical     0.068540              1"
      ]
     },
     "execution_count": 387,
     "metadata": {},
     "output_type": "execute_result"
    }
   ],
   "source": [
    "missing_percent = pd.DataFrame(cat_f.isna().mean(axis=0)*100, columns=[\"Missing %\"])\n",
    "total_missing = pd.DataFrame(cat_f.isna().sum(axis=0),columns=[\"Total Missing\"])\n",
    "cat_misstable = pd.concat([missing_percent,total_missing],axis = 1)\n",
    "cat_misstable.loc[cat_misstable['Total Missing'] > 0,:].sort_values(by = \"Missing %\", ascending = False)"
   ]
  },
  {
   "cell_type": "markdown",
   "metadata": {},
   "source": [
    "Most of these NA values represent information; the NA in Alley means no alley access.\n",
    "Therefore, we are going to fill these NA values with appropriate information."
   ]
  },
  {
   "cell_type": "code",
   "execution_count": 388,
   "metadata": {
    "scrolled": true
   },
   "outputs": [
    {
     "name": "stdout",
     "output_type": "stream",
     "text": [
      "MSZoning\n",
      "C (all)     74528.000000\n",
      "FV         214014.061538\n",
      "RH         131558.375000\n",
      "RL         191004.994787\n",
      "RM         126253.774194\n",
      "Name: SalePrice, dtype: float64\n",
      "\n",
      "Street\n",
      "Grvl    130190.500000\n",
      "Pave    181158.845836\n",
      "Name: SalePrice, dtype: float64\n",
      "\n",
      "Alley\n",
      "Grvl    122219.080000\n",
      "Pave    168000.585366\n",
      "no      183483.894737\n",
      "Name: SalePrice, dtype: float64\n",
      "\n",
      "LotShape\n",
      "IR1    206101.665289\n",
      "IR2    239833.365854\n",
      "IR3    216036.500000\n",
      "Reg    164781.609307\n",
      "Name: SalePrice, dtype: float64\n",
      "\n",
      "LandContour\n",
      "Bnk    143104.079365\n",
      "HLS    231533.940000\n",
      "Low    203661.111111\n",
      "Lvl    180214.421374\n",
      "Name: SalePrice, dtype: float64\n",
      "\n",
      "Utilities\n",
      "AllPub    180979.043896\n",
      "NoSeWa    137500.000000\n",
      "Name: SalePrice, dtype: float64\n",
      "\n",
      "LotConfig\n",
      "Corner     181623.425856\n",
      "CulDSac    223854.617021\n",
      "FR2        177934.574468\n",
      "FR3        208475.000000\n",
      "Inside     176973.193149\n",
      "Name: SalePrice, dtype: float64\n",
      "\n",
      "LandSlope\n",
      "Gtl    179985.732802\n",
      "Mod    196734.138462\n",
      "Sev    204379.230769\n",
      "Name: SalePrice, dtype: float64\n",
      "\n",
      "Neighborhood\n",
      "Blmngtn    194870.882353\n",
      "Blueste    137500.000000\n",
      "BrDale     104493.750000\n",
      "BrkSide    124834.051724\n",
      "ClearCr    212565.428571\n",
      "CollgCr    197965.773333\n",
      "Crawfor    210624.725490\n",
      "Edwards    128100.707071\n",
      "Gilbert    192854.506329\n",
      "IDOTRR     100123.783784\n",
      "MeadowV     98576.470588\n",
      "Mitchel    156270.122449\n",
      "NAmes      145847.080000\n",
      "NPkVill    142694.444444\n",
      "NWAmes     189050.068493\n",
      "NoRidge    335295.317073\n",
      "NridgHt    316270.623377\n",
      "OldTown    128225.300885\n",
      "SWISU      142591.360000\n",
      "Sawyer     136793.135135\n",
      "SawyerW    186555.796610\n",
      "Somerst    225379.837209\n",
      "StoneBr    310499.000000\n",
      "Timber     242247.447368\n",
      "Veenker    238772.727273\n",
      "Name: SalePrice, dtype: float64\n",
      "\n",
      "Condition1\n",
      "Artery    135091.666667\n",
      "Feedr     142475.481481\n",
      "Norm      184530.833995\n",
      "PosA      225875.000000\n",
      "PosN      215184.210526\n",
      "RRAe      138400.000000\n",
      "RRAn      184396.615385\n",
      "RRNe      190750.000000\n",
      "RRNn      212400.000000\n",
      "Name: SalePrice, dtype: float64\n",
      "\n",
      "Condition2\n",
      "Artery    106500.000000\n",
      "Feedr     121166.666667\n",
      "Norm      181197.916205\n",
      "PosA      325000.000000\n",
      "PosN      284875.000000\n",
      "RRAe      190000.000000\n",
      "RRAn      136905.000000\n",
      "RRNn       96750.000000\n",
      "Name: SalePrice, dtype: float64\n",
      "\n",
      "BldgType\n",
      "1Fam      185763.807377\n",
      "2fmCon    128432.258065\n",
      "Duplex    133541.076923\n",
      "Twnhs     135911.627907\n",
      "TwnhsE    182330.663717\n",
      "Name: SalePrice, dtype: float64\n",
      "\n",
      "HouseStyle\n",
      "1.5Fin    143116.740260\n",
      "1.5Unf    110150.000000\n",
      "1Story    175985.477961\n",
      "2.5Fin    220000.000000\n",
      "2.5Unf    157354.545455\n",
      "2Story    210051.764045\n",
      "SFoyer    134937.666667\n",
      "SLvl      166703.384615\n",
      "Name: SalePrice, dtype: float64\n",
      "\n",
      "RoofStyle\n",
      "Flat       194690.000000\n",
      "Gable      171511.573684\n",
      "Gambrel    148909.090909\n",
      "Hip        218876.933566\n",
      "Mansard    180568.428571\n",
      "Shed       225000.000000\n",
      "Name: SalePrice, dtype: float64\n",
      "\n",
      "RoofMatl\n",
      "ClyTile    160000.000000\n",
      "CompShg    179831.455687\n",
      "Membran    241500.000000\n",
      "Metal      180000.000000\n",
      "Roll       137000.000000\n",
      "Tar&Grv    185406.363636\n",
      "WdShake    241400.000000\n",
      "WdShngl    390250.000000\n",
      "Name: SalePrice, dtype: float64\n",
      "\n",
      "Exterior1st\n",
      "AsbShng    107385.550000\n",
      "AsphShn    100000.000000\n",
      "BrkComm     71000.000000\n",
      "BrkFace    194573.000000\n",
      "CBlock     105000.000000\n",
      "CemntBd    231690.655738\n",
      "HdBoard    163077.450450\n",
      "ImStucc    262000.000000\n",
      "MetalSd    149422.177273\n",
      "Plywood    175942.379630\n",
      "Stone      258500.000000\n",
      "Stucco     162990.000000\n",
      "VinylSd    213876.350195\n",
      "Wd Sdng    149841.645631\n",
      "WdShing    150655.076923\n",
      "Name: SalePrice, dtype: float64\n",
      "\n",
      "Exterior2nd\n",
      "AsbShng    114060.550000\n",
      "AsphShn    138000.000000\n",
      "Brk Cmn    126714.285714\n",
      "BrkFace    195818.000000\n",
      "CBlock     105000.000000\n",
      "CmentBd    230093.833333\n",
      "HdBoard    167661.565217\n",
      "ImStucc    252070.000000\n",
      "MetalSd    149803.172897\n",
      "Other      319000.000000\n",
      "Plywood    168112.387324\n",
      "Stone      158224.800000\n",
      "Stucco     155905.153846\n",
      "VinylSd    214580.437376\n",
      "Wd Sdng    148386.065990\n",
      "Wd Shng    161328.947368\n",
      "Name: SalePrice, dtype: float64\n",
      "\n",
      "MasVnrType\n",
      "BrkCmn     146318.066667\n",
      "BrkFace    204837.574324\n",
      "None       156221.891204\n",
      "Stone      265583.625000\n",
      "Name: SalePrice, dtype: float64\n",
      "\n",
      "ExterQual\n",
      "Ex    367360.961538\n",
      "Fa     87985.214286\n",
      "Gd    231633.510246\n",
      "TA    144346.110497\n",
      "Name: SalePrice, dtype: float64\n",
      "\n",
      "ExterCond\n",
      "Ex    201333.333333\n",
      "Fa    102595.142857\n",
      "Gd    168897.568493\n",
      "Po     76500.000000\n",
      "TA    184069.271663\n",
      "Name: SalePrice, dtype: float64\n",
      "\n",
      "Foundation\n",
      "BrkTil    132291.075342\n",
      "CBlock    149805.714511\n",
      "PConc     225362.377709\n",
      "Slab      107365.625000\n",
      "Stone     165959.166667\n",
      "Wood      185666.666667\n",
      "Name: SalePrice, dtype: float64\n",
      "\n",
      "BsmtQual\n",
      "Ex    327041.041322\n",
      "Fa    115692.028571\n",
      "Gd    202790.081037\n",
      "TA    140759.818182\n",
      "Name: SalePrice, dtype: float64\n",
      "\n",
      "BsmtCond\n",
      "Fa    121809.533333\n",
      "Gd    213599.907692\n",
      "Po     64000.000000\n",
      "TA    183665.928244\n",
      "Name: SalePrice, dtype: float64\n",
      "\n",
      "BsmtExposure\n",
      "Av    206643.420814\n",
      "Gd    258574.691729\n",
      "Mn    192789.657895\n",
      "No    165652.295908\n",
      "Name: SalePrice, dtype: float64\n",
      "\n",
      "BsmtFinType1\n",
      "ALQ    161573.068182\n",
      "BLQ    149493.655405\n",
      "GLQ    235642.529976\n",
      "LwQ    151852.702703\n",
      "Rec    146889.248120\n",
      "Unf    170670.576744\n",
      "Name: SalePrice, dtype: float64\n",
      "\n",
      "BsmtFinType2\n",
      "ALQ    209942.105263\n",
      "BLQ    151101.000000\n",
      "GLQ    180982.142857\n",
      "LwQ    164364.130435\n",
      "Rec    164917.129630\n",
      "Unf    184730.303586\n",
      "Name: SalePrice, dtype: float64\n",
      "\n",
      "Heating\n",
      "Floor     72500.000000\n",
      "GasA     182050.642607\n",
      "GasW     166632.166667\n",
      "Grav      75271.428571\n",
      "OthW     125750.000000\n",
      "Wall      92100.000000\n",
      "Name: SalePrice, dtype: float64\n",
      "\n",
      "HeatingQC\n",
      "Ex    214914.429150\n",
      "Fa    123919.489796\n",
      "Gd    156929.116667\n",
      "Po     87000.000000\n",
      "TA    142362.876168\n",
      "Name: SalePrice, dtype: float64\n",
      "\n",
      "CentralAir\n",
      "N    105264.073684\n",
      "Y    186220.571114\n",
      "Name: SalePrice, dtype: float64\n",
      "\n",
      "Electrical\n",
      "FuseA    122196.893617\n",
      "FuseF    107675.444444\n",
      "FuseP     97333.333333\n",
      "Mix       67000.000000\n",
      "SBrkr    186860.240810\n",
      "Name: SalePrice, dtype: float64\n",
      "\n",
      "KitchenQual\n",
      "Ex    328554.670000\n",
      "Fa    105565.205128\n",
      "Gd    212116.023891\n",
      "TA    139962.460490\n",
      "Name: SalePrice, dtype: float64\n",
      "\n",
      "Functional\n",
      "Maj1    153948.142857\n",
      "Maj2     85800.000000\n",
      "Min1    146385.483871\n",
      "Min2    144240.647059\n",
      "Mod     168393.333333\n",
      "Sev     129000.000000\n",
      "Typ     183461.103753\n",
      "Name: SalePrice, dtype: float64\n",
      "\n",
      "FireplaceQu\n",
      "Ex    337712.500000\n",
      "Fa    167298.484848\n",
      "Gd    226351.415789\n",
      "Po    129764.150000\n",
      "TA    205723.488818\n",
      "Name: SalePrice, dtype: float64\n",
      "\n",
      "GarageType\n",
      "2Types     151283.333333\n",
      "Attchd     202892.656322\n",
      "Basment    161713.500000\n",
      "BuiltIn    254751.738636\n",
      "CarPort    109962.111111\n",
      "Detchd     134091.162791\n",
      "Name: SalePrice, dtype: float64\n",
      "\n",
      "GarageFinish\n",
      "Fin    240337.740741\n",
      "RFn    202068.869668\n",
      "Unf    142156.423140\n",
      "Name: SalePrice, dtype: float64\n",
      "\n",
      "GarageQual\n",
      "Ex    241000.000000\n",
      "Fa    123573.354167\n",
      "Gd    215860.714286\n",
      "Po    100166.666667\n",
      "TA    187526.087786\n",
      "Name: SalePrice, dtype: float64\n",
      "\n",
      "GarageCond\n",
      "Ex    124000.000000\n",
      "Fa    114654.028571\n",
      "Gd    179930.000000\n",
      "Po    108500.000000\n",
      "TA    187921.875472\n",
      "Name: SalePrice, dtype: float64\n",
      "\n",
      "PavedDrive\n",
      "N    115039.122222\n",
      "P    132330.000000\n",
      "Y    186468.651979\n",
      "Name: SalePrice, dtype: float64\n",
      "\n",
      "PoolQC\n",
      "Ex    490000\n",
      "Fa    215500\n",
      "Gd    201990\n",
      "Name: SalePrice, dtype: int64\n",
      "\n",
      "Fence\n",
      "GdPrv    178927.457627\n",
      "GdWo     140379.314815\n",
      "MnPrv    148751.089172\n",
      "MnWw     134286.363636\n",
      "Name: SalePrice, dtype: float64\n",
      "\n",
      "MiscFeature\n",
      "Gar2    170750.000000\n",
      "Othr     94000.000000\n",
      "Shed    151187.612245\n",
      "TenC    250000.000000\n",
      "Name: SalePrice, dtype: float64\n",
      "\n",
      "SaleType\n",
      "COD      143973.255814\n",
      "CWD      210600.000000\n",
      "Con      269600.000000\n",
      "ConLD    138780.888889\n",
      "ConLI    200390.000000\n",
      "ConLw    143700.000000\n",
      "New      276060.669421\n",
      "Oth      119850.000000\n",
      "WD       173401.836622\n",
      "Name: SalePrice, dtype: float64\n",
      "\n",
      "SaleCondition\n",
      "Abnorml    146526.623762\n",
      "AdjLand    104125.000000\n",
      "Alloca     167377.416667\n",
      "Family     149600.000000\n",
      "Normal     175202.219533\n",
      "Partial    273358.620968\n",
      "Name: SalePrice, dtype: float64\n",
      "\n"
     ]
    }
   ],
   "source": [
    "tr.Alley.fillna(\"no\", inplace = True)\n",
    "\n",
    "for i in cat_f.columns:\n",
    "    print(tr.groupby(by=tr[i]).SalePrice.mean())\n",
    "    print()"
   ]
  },
  {
   "cell_type": "code",
   "execution_count": 389,
   "metadata": {},
   "outputs": [],
   "source": [
    "for df in [tr,test_housePrices]:\n",
    "    for i in ['BsmtQual','BsmtCond']:\n",
    "        df[i].fillna('no',inplace= True)\n",
    "        #print (df.BsmtQual.value_counts())"
   ]
  },
  {
   "cell_type": "code",
   "execution_count": 390,
   "metadata": {},
   "outputs": [],
   "source": [
    "for df in [tr,test_housePrices]:\n",
    "    for i in ['ExterQual','ExterCond','BsmtQual','BsmtCond']:\n",
    "        df[i] = df[i].map({'TA':3, 'Gd':2, 'Ex':1, 'Po':5, 'Fa':4,'no': 5})"
   ]
  },
  {
   "cell_type": "code",
   "execution_count": 391,
   "metadata": {
    "scrolled": true
   },
   "outputs": [
    {
     "data": {
      "text/plain": [
       "False    1459\n",
       "Name: MSZoning, dtype: int64"
      ]
     },
     "execution_count": 391,
     "metadata": {},
     "output_type": "execute_result"
    }
   ],
   "source": [
    "tr.MSZoning.isna().value_counts() #no missing values in training set\n",
    "tr.MSZoning.value_counts()\n",
    "\n",
    "test_housePrices.MSZoning.isna().value_counts() #4 missing values\n",
    "\n",
    "#sns.boxplot(x=\"MSZoning\",y=\"SalePrice\",data=tr)\n",
    "\n",
    "for df in [tr,test_housePrices]:\n",
    "    df.MSZoning = df.MSZoning.map({'RL':1,'FV':1,'RM':2,'RH':2,'C (all)':3})\n",
    "    \n",
    "test_housePrices.MSZoning.fillna(2, inplace=True)\n",
    "test_housePrices.MSZoning.isna().value_counts()"
   ]
  },
  {
   "cell_type": "code",
   "execution_count": 392,
   "metadata": {},
   "outputs": [],
   "source": [
    "# tr.MSSubClass.isna().value_counts()\n",
    "# for df in [tr,test_housePrices]:\n",
    "#     df['MSSubClass'] = df.MSSubClass.map({30:1,45:1,180:1,160:2,190:2,90:2,50:2,85:2,40:2,20:3,75:3,120:3,80:4,70:4,60:5,150:2})"
   ]
  },
  {
   "cell_type": "markdown",
   "metadata": {},
   "source": [
    "Features to include when training"
   ]
  },
  {
   "cell_type": "code",
   "execution_count": 393,
   "metadata": {},
   "outputs": [],
   "source": [
    "feature_includedNum = ['OverallQual', 'YearBuilt', 'YearRemodAdd', 'TotalBsmtSF','GrLivArea', \n",
    "                       'FullBath', 'TotRmsAbvGrd', 'GarageCars', 'TotRmsAbvGrd', 'Fireplaces', 'MSSubClass']\n",
    "feature_includedCat = ['ExterQual','ExterCond','BsmtQual']\n",
    "\n",
    "features = feature_includedNum + feature_includedCat"
   ]
  },
  {
   "cell_type": "markdown",
   "metadata": {},
   "source": [
    "Drop the unwanted features from training and test sets. GarageCars and TotalBsmtSF has one missing value in test set"
   ]
  },
  {
   "cell_type": "code",
   "execution_count": 394,
   "metadata": {},
   "outputs": [
    {
     "data": {
      "text/plain": [
       "OverallQual     False\n",
       "YearBuilt       False\n",
       "YearRemodAdd    False\n",
       "TotalBsmtSF     False\n",
       "GrLivArea       False\n",
       "FullBath        False\n",
       "TotRmsAbvGrd    False\n",
       "GarageCars      False\n",
       "TotRmsAbvGrd    False\n",
       "Fireplaces      False\n",
       "MSSubClass      False\n",
       "ExterQual       False\n",
       "ExterCond       False\n",
       "BsmtQual        False\n",
       "KitchenQual     False\n",
       "dtype: bool"
      ]
     },
     "execution_count": 394,
     "metadata": {},
     "output_type": "execute_result"
    }
   ],
   "source": [
    "train_target = tr[\"SalePrice\"]\n",
    "\n",
    "training_set = tr.loc[:,features]\n",
    "\n",
    "testing_set = test_housePrices.loc[:,features]\n",
    "\n",
    "#filling in missing values\n",
    "#testing_set.GarageCars.fillna(np.ceil(testing_set.GarageCars.mean()), inplace=True) \n",
    "#testing_set.TotalBsmtSF.fillna(np.ceil(testing_set.TotalBsmtSF.mean()), inplace=True)\n",
    "\n",
    "testing_set.isna().any()"
   ]
  },
  {
   "cell_type": "markdown",
   "metadata": {},
   "source": [
    "# Training and Prediction using Gradient Boosting"
   ]
  },
  {
   "cell_type": "code",
   "execution_count": 395,
   "metadata": {},
   "outputs": [],
   "source": [
    "from sklearn.ensemble import GradientBoostingRegressor\n",
    "from sklearn import metrics\n",
    "\n",
    "#Training 3000\n",
    "gb = GradientBoostingRegressor(n_estimators=1000, learning_rate=0.05, max_depth=3, max_features='sqrt',\n",
    "                         min_samples_leaf=15, min_samples_split=10, loss='huber').fit(training_set.values,train_target)\n",
    "#Predictions\n",
    "predictions_gb = gb.predict(testing_set.values)\n",
    "frame_gb = pd.DataFrame(predictions_gb, columns = ['SalePrice'], index=testing_set.index)\n",
    "#writing\n",
    "frame_gb.to_csv('Desktop/gb11.csv')"
   ]
  }
 ],
 "metadata": {
  "kernelspec": {
   "display_name": "Python 3",
   "language": "python",
   "name": "python3"
  },
  "language_info": {
   "codemirror_mode": {
    "name": "ipython",
    "version": 3
   },
   "file_extension": ".py",
   "mimetype": "text/x-python",
   "name": "python",
   "nbconvert_exporter": "python",
   "pygments_lexer": "ipython3",
   "version": "3.6.4"
  }
 },
 "nbformat": 4,
 "nbformat_minor": 2
}
